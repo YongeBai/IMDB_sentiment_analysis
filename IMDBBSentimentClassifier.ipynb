{
 "cells": [
  {
   "cell_type": "markdown",
   "id": "f0f45681",
   "metadata": {},
   "source": [
    "# Importing Dataset\n",
    "\n"
   ]
  },
  {
   "cell_type": "code",
   "execution_count": 61,
   "id": "eb8fe682",
   "metadata": {},
   "outputs": [],
   "source": [
    "# !pip install torch\n",
    "# !pip install matplotlib\n",
    "# !pip install numpy\n",
    "# !pip install pandas\n",
    "# !pip install transformers\n",
    "# !pip install nltk\n",
    "# !pip install squarify\n",
    "# !pip install sns"
   ]
  },
  {
   "cell_type": "code",
   "execution_count": null,
   "id": "dd039b62",
   "metadata": {},
   "outputs": [],
   "source": []
  },
  {
   "cell_type": "code",
   "execution_count": 1,
   "id": "86d9ea1d",
   "metadata": {},
   "outputs": [],
   "source": [
    "import pandas as pd\n",
    "import matplotlib.pyplot as plt\n",
    "import seaborn as sns\n",
    "import numpy as np\n",
    "%matplotlib inline"
   ]
  },
  {
   "cell_type": "code",
   "execution_count": 2,
   "id": "9aa9bd0b",
   "metadata": {},
   "outputs": [],
   "source": [
    "#importing the training data\n",
    "imdb_data=pd.read_csv('IMDB Dataset.csv')"
   ]
  },
  {
   "cell_type": "markdown",
   "id": "0d60b91b",
   "metadata": {},
   "source": [
    "# 0. Exploring Data"
   ]
  },
  {
   "cell_type": "code",
   "execution_count": 6,
   "id": "7769d4cd",
   "metadata": {},
   "outputs": [
    {
     "name": "stdout",
     "output_type": "stream",
     "text": [
      "(50000, 2)\n"
     ]
    },
    {
     "data": {
      "text/html": [
       "<div>\n",
       "<style scoped>\n",
       "    .dataframe tbody tr th:only-of-type {\n",
       "        vertical-align: middle;\n",
       "    }\n",
       "\n",
       "    .dataframe tbody tr th {\n",
       "        vertical-align: top;\n",
       "    }\n",
       "\n",
       "    .dataframe thead th {\n",
       "        text-align: right;\n",
       "    }\n",
       "</style>\n",
       "<table border=\"1\" class=\"dataframe\">\n",
       "  <thead>\n",
       "    <tr style=\"text-align: right;\">\n",
       "      <th></th>\n",
       "      <th>review</th>\n",
       "      <th>sentiment</th>\n",
       "    </tr>\n",
       "  </thead>\n",
       "  <tbody>\n",
       "    <tr>\n",
       "      <th>0</th>\n",
       "      <td>One of the other reviewers has mentioned that ...</td>\n",
       "      <td>positive</td>\n",
       "    </tr>\n",
       "    <tr>\n",
       "      <th>1</th>\n",
       "      <td>A wonderful little production. &lt;br /&gt;&lt;br /&gt;The...</td>\n",
       "      <td>positive</td>\n",
       "    </tr>\n",
       "    <tr>\n",
       "      <th>2</th>\n",
       "      <td>I thought this was a wonderful way to spend ti...</td>\n",
       "      <td>positive</td>\n",
       "    </tr>\n",
       "    <tr>\n",
       "      <th>3</th>\n",
       "      <td>Basically there's a family where a little boy ...</td>\n",
       "      <td>negative</td>\n",
       "    </tr>\n",
       "    <tr>\n",
       "      <th>4</th>\n",
       "      <td>Petter Mattei's \"Love in the Time of Money\" is...</td>\n",
       "      <td>positive</td>\n",
       "    </tr>\n",
       "    <tr>\n",
       "      <th>5</th>\n",
       "      <td>Probably my all-time favorite movie, a story o...</td>\n",
       "      <td>positive</td>\n",
       "    </tr>\n",
       "    <tr>\n",
       "      <th>6</th>\n",
       "      <td>I sure would like to see a resurrection of a u...</td>\n",
       "      <td>positive</td>\n",
       "    </tr>\n",
       "    <tr>\n",
       "      <th>7</th>\n",
       "      <td>This show was an amazing, fresh &amp; innovative i...</td>\n",
       "      <td>negative</td>\n",
       "    </tr>\n",
       "    <tr>\n",
       "      <th>8</th>\n",
       "      <td>Encouraged by the positive comments about this...</td>\n",
       "      <td>negative</td>\n",
       "    </tr>\n",
       "    <tr>\n",
       "      <th>9</th>\n",
       "      <td>If you like original gut wrenching laughter yo...</td>\n",
       "      <td>positive</td>\n",
       "    </tr>\n",
       "  </tbody>\n",
       "</table>\n",
       "</div>"
      ],
      "text/plain": [
       "                                              review sentiment\n",
       "0  One of the other reviewers has mentioned that ...  positive\n",
       "1  A wonderful little production. <br /><br />The...  positive\n",
       "2  I thought this was a wonderful way to spend ti...  positive\n",
       "3  Basically there's a family where a little boy ...  negative\n",
       "4  Petter Mattei's \"Love in the Time of Money\" is...  positive\n",
       "5  Probably my all-time favorite movie, a story o...  positive\n",
       "6  I sure would like to see a resurrection of a u...  positive\n",
       "7  This show was an amazing, fresh & innovative i...  negative\n",
       "8  Encouraged by the positive comments about this...  negative\n",
       "9  If you like original gut wrenching laughter yo...  positive"
      ]
     },
     "execution_count": 6,
     "metadata": {},
     "output_type": "execute_result"
    }
   ],
   "source": [
    "print(imdb_data.shape)\n",
    "imdb_data.head(10)"
   ]
  },
  {
   "cell_type": "code",
   "execution_count": 3,
   "id": "0d7abae0",
   "metadata": {},
   "outputs": [
    {
     "data": {
      "text/plain": [
       "418"
      ]
     },
     "execution_count": 3,
     "metadata": {},
     "output_type": "execute_result"
    }
   ],
   "source": [
    "# checking for duplicates\n",
    "imdb_data.duplicated().sum()"
   ]
  },
  {
   "cell_type": "code",
   "execution_count": 4,
   "id": "79ee4e09",
   "metadata": {},
   "outputs": [
    {
     "data": {
      "text/plain": [
       "review       0\n",
       "sentiment    0\n",
       "dtype: int64"
      ]
     },
     "execution_count": 4,
     "metadata": {},
     "output_type": "execute_result"
    }
   ],
   "source": [
    "# checking for null\n",
    "imdb_data.isnull().sum()"
   ]
  },
  {
   "cell_type": "code",
   "execution_count": 3,
   "id": "408da985",
   "metadata": {},
   "outputs": [],
   "source": [
    "# dropping duplicates and changing dataframe to df to keep original data untouched\n",
    "imdb = imdb_data.drop_duplicates()\n",
    "df = imdb"
   ]
  },
  {
   "cell_type": "code",
   "execution_count": 68,
   "id": "3efc28fa",
   "metadata": {},
   "outputs": [],
   "source": [
    "#checking for dataset balance\n",
    "df['sentiment'].value_counts()\n",
    "\n",
    "# we can see the dataset is rather balanced\n",
    "\n",
    "df = df[:10000]\n",
    "# only using 10000 for plotting"
   ]
  },
  {
   "cell_type": "markdown",
   "id": "8e5cc281",
   "metadata": {},
   "source": [
    "### Removing stopwords and puncuation"
   ]
  },
  {
   "cell_type": "code",
   "execution_count": 69,
   "id": "e483de0c",
   "metadata": {},
   "outputs": [],
   "source": [
    "import nltk\n",
    "from nltk.corpus import stopwords\n",
    "import re"
   ]
  },
  {
   "cell_type": "code",
   "execution_count": 70,
   "id": "8a184013",
   "metadata": {},
   "outputs": [
    {
     "name": "stderr",
     "output_type": "stream",
     "text": [
      "[nltk_data] Downloading package stopwords to\n",
      "[nltk_data]     C:\\Users\\Yonge\\AppData\\Roaming\\nltk_data...\n",
      "[nltk_data]   Package stopwords is already up-to-date!\n",
      "[nltk_data] Downloading package punkt to\n",
      "[nltk_data]     C:\\Users\\Yonge\\AppData\\Roaming\\nltk_data...\n",
      "[nltk_data]   Package punkt is already up-to-date!\n"
     ]
    },
    {
     "data": {
      "text/plain": [
       "True"
      ]
     },
     "execution_count": 70,
     "metadata": {},
     "output_type": "execute_result"
    }
   ],
   "source": [
    "nltk.download('stopwords')\n",
    "nltk.download('punkt')"
   ]
  },
  {
   "cell_type": "code",
   "execution_count": 71,
   "id": "f9ad574a",
   "metadata": {},
   "outputs": [],
   "source": [
    "# df['review'][0]\n",
    "#things to remove: stopwords, these <br /><br />, and punctuation"
   ]
  },
  {
   "cell_type": "code",
   "execution_count": 72,
   "id": "8d933d8e",
   "metadata": {},
   "outputs": [],
   "source": [
    "def clean_text(sentence: str):\n",
    "    sentence = sentence.lower()\n",
    "    sentence = re.sub(r\"<br />\", \"\", sentence)\n",
    "    sentence = re.sub(r\"[^a-z0-9 ]\", \"\", sentence)\n",
    "    sentence = re.sub(r\"\\s+\", \" \", sentence)\n",
    "\n",
    "    tokenized = nltk.tokenize.word_tokenize(sentence)\n",
    "\n",
    "    # remove stop words\n",
    "    stop_words = nltk.corpus.stopwords.words('english')\n",
    "    tokenized = [word for word in tokenized if word not in stop_words]\n",
    "    sentence = sentence.split()\n",
    "\n",
    "    return sentence"
   ]
  },
  {
   "cell_type": "code",
   "execution_count": 73,
   "id": "0db984d2",
   "metadata": {},
   "outputs": [
    {
     "name": "stderr",
     "output_type": "stream",
     "text": [
      "C:\\Users\\Yonge\\AppData\\Roaming\\Python\\Python37\\site-packages\\ipykernel_launcher.py:1: SettingWithCopyWarning: \n",
      "A value is trying to be set on a copy of a slice from a DataFrame.\n",
      "Try using .loc[row_indexer,col_indexer] = value instead\n",
      "\n",
      "See the caveats in the documentation: https://pandas.pydata.org/pandas-docs/stable/user_guide/indexing.html#returning-a-view-versus-a-copy\n",
      "  \"\"\"Entry point for launching an IPython kernel.\n"
     ]
    }
   ],
   "source": [
    "df['review'] = df['review'].apply(clean_text)\n",
    "# df['review'][0]"
   ]
  },
  {
   "cell_type": "code",
   "execution_count": 74,
   "id": "23f8537d",
   "metadata": {},
   "outputs": [
    {
     "data": {
      "image/png": "[encoded data removed]",
      "text/plain": [
       "<Figure size 640x480 with 1 Axes>"
      ]
     },
     "metadata": {},
     "output_type": "display_data"
    }
   ],
   "source": [
    "#visualizing positive and negative review ratio\n",
    "\n",
    "df_positive = df[df['sentiment'] == 'positive']\n",
    "df_negative = df[df['sentiment'] == 'negative']\n",
    "\n",
    "def plot(positive: int, negative: int):\n",
    "    # Plot the positive review counts\n",
    "    plt.bar(0, positive, label='Positive scores', color='Green')\n",
    "    plt.legend()\n",
    "\n",
    "    # Plot the negative review counts\n",
    "    plt.bar(1,negative, label='Negative scores', color='Red')\n",
    "    plt.legend()\n",
    "\n",
    "    # Set the x-axis label\n",
    "    plt.xlabel('Type of Review')\n",
    "\n",
    "    # Set the y-axis label\n",
    "    plt.ylabel('Number of reviews')\n",
    "\n",
    "    # Hide the x-axis tick labels\n",
    "    plt.xticks([])\n",
    "\n",
    "    # Show the plot\n",
    "    plt.show()\n",
    "\n",
    "plot(len(df_positive), len(df_negative))"
   ]
  },
  {
   "cell_type": "code",
   "execution_count": 75,
   "id": "456ec50c",
   "metadata": {},
   "outputs": [
    {
     "data": {
      "image/png": "[encoded data removed]",
      "text/plain": [
       "<Figure size 1000x500 with 2 Axes>"
      ]
     },
     "metadata": {},
     "output_type": "display_data"
    }
   ],
   "source": [
    "# Get the length of each review in the positive and negative datasets\n",
    "positive_review_lengths = [len(review) for review in df_positive['review']]\n",
    "negative_review_lengths = [len(review) for review in df_negative['review']]\n",
    "\n",
    "def plot(len_positive: int, len_negative: int):\n",
    "    # Create a figure with two subplots\n",
    "    fig, (ax1, ax2) = plt.subplots(1, 2, figsize=(10, 5))\n",
    "\n",
    "    # Plot the histogram for the positive review lengths\n",
    "    sns.histplot(len_positive,\n",
    "                 bins=150,\n",
    "                 color='green',\n",
    "                 label='Positive Reviews',\n",
    "                 ax=ax1)\n",
    "\n",
    "    # Add a title, x-label, and y-label for the first subplot\n",
    "    ax1.set_title('Positive Review Lengths')\n",
    "    ax1.set_xlabel('Review Length')\n",
    "    ax1.set_ylabel('Count')\n",
    "\n",
    "    # Set the x-axis and y-axis limits for the first subplot\n",
    "    ax1.set_xlim(0, 1100)\n",
    "    ax1.set_ylim(0, 500)\n",
    "\n",
    "    # Add a legend to the first subplot\n",
    "    ax1.legend(loc='upper right')\n",
    "\n",
    "    # Plot the histogram for the negative review lengths\n",
    "    sns.histplot(len_negative,\n",
    "                 bins=150,\n",
    "                 color='red',\n",
    "                 label='Negative Reviews',\n",
    "                 ax=ax2)\n",
    "\n",
    "    # Add a title, x-label, and y-label for the second subplot\n",
    "    ax2.set_title('Negative Review Lengths')\n",
    "    ax2.set_xlabel('Review Length')\n",
    "    ax2.set_ylabel('Count')\n",
    "\n",
    "    # Set the x-axis and y-axis limits for the second subplot\n",
    "    ax2.set_xlim(0, 1100)\n",
    "    ax2.set_ylim(0, 500)\n",
    "\n",
    "    # Add a legend to the second subplot\n",
    "    ax2.legend(loc='upper right')\n",
    "\n",
    "    # Show the plots\n",
    "    plt.show()\n",
    "\n",
    "plot(positive_review_lengths, negative_review_lengths)\n",
    "\n"
   ]
  },
  {
   "cell_type": "code",
   "execution_count": 76,
   "id": "2d9f0e2f",
   "metadata": {},
   "outputs": [
    {
     "data": {
      "image/png": "[encoded data removed]",
      "text/plain": [
       "<Figure size 1000x500 with 1 Axes>"
      ]
     },
     "metadata": {},
     "output_type": "display_data"
    }
   ],
   "source": [
    "positive_mean = np.mean(positive_review_lengths)\n",
    "negative_mean = np.mean(negative_review_lengths)\n",
    "\n",
    "def plot(positive, negative):\n",
    "    # Create a figure\n",
    "    fig = plt.figure(figsize=(10, 5))\n",
    "\n",
    "    # Create a bar plot with the positive and negative review length means\n",
    "    plt.barh(['Positive Reviews', 'Negative Reviews'],\n",
    "            [positive, negative],\n",
    "            color=['green', 'red'])\n",
    "    # Set the x-axis limits to the range 250-260 to better show difference\n",
    "    ax = plt.gca()\n",
    "    ax.set_xlim(200, 230)\n",
    "    # x-label to the plot\n",
    "    plt.xlabel('Mean Length')\n",
    "    \n",
    "    # Show the plot\n",
    "    plt.show()\n",
    "\n",
    "plot(positive_mean, negative_mean)\n",
    "# reviews are about equal lenght on average"
   ]
  },
  {
   "cell_type": "code",
   "execution_count": 77,
   "id": "a4f08e0a",
   "metadata": {},
   "outputs": [],
   "source": [
    "# df_positive['review'][0]"
   ]
  },
  {
   "cell_type": "code",
   "execution_count": 78,
   "id": "82692ff9",
   "metadata": {},
   "outputs": [],
   "source": [
    "# pos = Counter(df_positive['review'][0]).most_common(10)\n",
    "\n",
    "# print([word for word, count in pos if word not in {'the':2, 'is':3, 'of':1}])"
   ]
  },
  {
   "cell_type": "code",
   "execution_count": 79,
   "id": "9d6e5f01",
   "metadata": {
    "scrolled": true
   },
   "outputs": [
    {
     "data": {
      "image/png": "[encoded data removed]",
      "text/plain": [
       "<Figure size 800x400 with 2 Axes>"
      ]
     },
     "metadata": {},
     "output_type": "display_data"
    }
   ],
   "source": [
    "from collections import Counter\n",
    "import squarify\n",
    "\n",
    "# Use the Counter class to count the number of occurrences of each word greater than 3 in the positive and negative datasets\n",
    "\n",
    "pos_count = Counter([word for review in df_positive['review'] for word in review if len(word)>3])\n",
    "neg_count = Counter([word for review in df_negative['review'] for word in review if len(word)>3])\n",
    "                                                  \n",
    "# Get the top 100 most frequent words in the positive and negative datasets\n",
    "positive_top_words =  pos_count.most_common(100)\n",
    "negative_top_words = neg_count.most_common(100)\n",
    "\n",
    "# Creating list of words from each dataset to remove duplicates in plot\n",
    "positive_words = [word for word, count in positive_top_words]\n",
    "negative_words = [word for word, count in negative_top_words]\n",
    "\n",
    "\n",
    "def plot(positive_count, negative_count):\n",
    "    # Create a figure with two subplots\n",
    "    fig, (ax1, ax2) = plt.subplots(1, 2, figsize=(8, 4))\n",
    "    \n",
    "    # Use the squarify function to plot the top 10 most frequent words in the positive dataset\n",
    "    squarify.plot(sizes=[count for word, count in positive_top_words if word not in negative_words],\n",
    "                  label=[word for word, count in positive_top_words if word not in negative_words],\n",
    "                  color=sns.color_palette(\"Spectral\"),\n",
    "                  ax=ax1)\n",
    "\n",
    "    # Use the squarify function to plot the top 10 most frequent words in the negative dataset\n",
    "    squarify.plot(sizes=[count for word, count in negative_top_words if word not in positive_words],\n",
    "                  label=[word for word, count in negative_top_words if word not in positive_words],\n",
    "                  color=sns.color_palette(\"Accent\"),\n",
    "                  ax=ax2)\n",
    "\n",
    "    # Add a title, x-label, and y-label to the first subplot\n",
    "    ax1.set_title('Top 10 words in positive reviews')\n",
    "    ax1.set_xlabel('Word')\n",
    "    ax1.set_ylabel('Count')\n",
    "    \n",
    "    # Hide the x and y axis tick label\n",
    "    ax1.set_xticks([])\n",
    "    ax1.set_yticks([])\n",
    "    \n",
    "    # Add a title, x-label, and y-label to the second subplot\n",
    "    ax2.set_title('Top 10 words in negative reviews')\n",
    "    ax2.set_xlabel('Word')\n",
    "    ax2.set_ylabel('Count')\n",
    "    \n",
    "    # Hide the x and y axis tick labels\n",
    "    ax2.set_xticks([])\n",
    "    ax2.set_yticks([])\n",
    "    \n",
    "    # Show the plots\n",
    "    plt.show()\n",
    "\n",
    "plot(positive_top_words, negative_top_words)"
   ]
  },
  {
   "cell_type": "markdown",
   "id": "6ec2053c",
   "metadata": {},
   "source": [
    "# Data Preprocessing\n",
    "\n",
    "going to do seperate data preprocessing for the model"
   ]
  },
  {
   "cell_type": "code",
   "execution_count": 43,
   "id": "209fb85e",
   "metadata": {},
   "outputs": [],
   "source": [
    "# creating new dataframe for the model, a couple examples to keep training fast\n",
    "df = imdb[:1000]"
   ]
  },
  {
   "cell_type": "code",
   "execution_count": 44,
   "id": "ad274ce7",
   "metadata": {},
   "outputs": [
    {
     "name": "stderr",
     "output_type": "stream",
     "text": [
      "c:\\Users\\Yonge\\AppData\\Local\\Programs\\Python\\Python37\\lib\\site-packages\\pandas\\core\\generic.py:6619: SettingWithCopyWarning: \n",
      "A value is trying to be set on a copy of a slice from a DataFrame\n",
      "\n",
      "See the caveats in the documentation: https://pandas.pydata.org/pandas-docs/stable/user_guide/indexing.html#returning-a-view-versus-a-copy\n",
      "  return self._update_inplace(result)\n"
     ]
    }
   ],
   "source": [
    "# changing positive and negative to numerical values\n",
    "df['sentiment'].replace('positive', 1, inplace=True)\n",
    "df['sentiment'].replace('negative', 0, inplace=True)\n",
    "# df.head()"
   ]
  },
  {
   "cell_type": "code",
   "execution_count": 45,
   "id": "b45479b7",
   "metadata": {},
   "outputs": [],
   "source": [
    "from transformers import BertTokenizerFast"
   ]
  },
  {
   "cell_type": "code",
   "execution_count": 46,
   "id": "fa8fb6d8",
   "metadata": {},
   "outputs": [],
   "source": [
    "# Creating BertTokenzierFats object\n",
    "tokenizer = BertTokenizerFast.from_pretrained('bert-base-uncased')"
   ]
  },
  {
   "cell_type": "code",
   "execution_count": 47,
   "id": "f9afe1db",
   "metadata": {
    "scrolled": false
   },
   "outputs": [
    {
     "name": "stdout",
     "output_type": "stream",
     "text": [
      "Sentence: this movie was the best movie I have ever seen!\n",
      "Tokens: ['this', 'movie', 'was', 'the', 'best', 'movie', 'i', 'have', 'ever', 'seen', '!']\n",
      "Token IDs: [2023, 3185, 2001, 1996, 2190, 3185, 1045, 2031, 2412, 2464, 999]\n"
     ]
    }
   ],
   "source": [
    "test = \"this movie was the best movie I have ever seen!\"\n",
    "tokens = tokenizer.tokenize(test)\n",
    "token_ids = tokenizer.convert_tokens_to_ids(tokens)\n",
    "\n",
    "print(f'Sentence: {test}')\n",
    "print(f'Tokens: {tokens}')\n",
    "print(f'Token IDs: {token_ids}')"
   ]
  },
  {
   "cell_type": "code",
   "execution_count": 48,
   "id": "447d6e40",
   "metadata": {},
   "outputs": [
    {
     "data": {
      "text/plain": [
       "dict_keys(['input_ids', 'attention_mask'])"
      ]
     },
     "execution_count": 48,
     "metadata": {},
     "output_type": "execute_result"
    }
   ],
   "source": [
    "encoding = tokenizer(\n",
    "    test,\n",
    "    max_length=32, \n",
    "    padding='max_length',\n",
    "    return_token_type_ids=False,\n",
    "    truncation=True,\n",
    "    return_tensors='pt'\n",
    ")\n",
    "encoding.keys()\n",
    "# tokenizer.convert_ids_to_tokens(encoding['input_ids'][0])"
   ]
  },
  {
   "cell_type": "markdown",
   "id": "a826a51c",
   "metadata": {},
   "source": [
    "## Splitting the data"
   ]
  },
  {
   "cell_type": "code",
   "execution_count": 49,
   "id": "cb6c4efa",
   "metadata": {},
   "outputs": [],
   "source": [
    "import torch as th\n",
    "from torch.utils.data import Dataset, DataLoader\n",
    "import transformers"
   ]
  },
  {
   "cell_type": "code",
   "execution_count": 50,
   "id": "31766917",
   "metadata": {},
   "outputs": [
    {
     "data": {
      "text/plain": [
       "device(type='cuda')"
      ]
     },
     "execution_count": 50,
     "metadata": {},
     "output_type": "execute_result"
    }
   ],
   "source": [
    "device = th.device('cuda' if th.cuda.is_available() else 'cpu')\n",
    "device"
   ]
  },
  {
   "cell_type": "code",
   "execution_count": 51,
   "id": "5ab44827",
   "metadata": {},
   "outputs": [],
   "source": [
    "class ReviewDataset(Dataset):\n",
    "    def __init__(self, reviews, sentiments, tokenizer):\n",
    "        self.reviews = reviews\n",
    "        self.sentiments = sentiments\n",
    "        self.tokenizer = tokenizer\n",
    "        self.max_len = 512\n",
    "    \n",
    "    def __len__(self):\n",
    "        return len(self.reviews)\n",
    "    \n",
    "    def __getitem__(self, idx):\n",
    "        review = str(self.reviews[idx])\n",
    "        sentiment = self.sentiments[idx]\n",
    "        \n",
    "        encoding = self.tokenizer(\n",
    "            review,\n",
    "            max_length = self.max_len,\n",
    "            padding='max_length',\n",
    "            return_token_type_ids=False,\n",
    "            truncation=True,\n",
    "            return_tensors='pt'\n",
    "        )\n",
    "        \n",
    "        return {\n",
    "            'review_text': review, \n",
    "            'sentiment': th.tensor(sentiment, dtype=th.long),\n",
    "            'input_ids': encoding['input_ids'].flatten(),\n",
    "            'attention_mask': encoding['attention_mask'].flatten()\n",
    "        }\n",
    "    "
   ]
  },
  {
   "cell_type": "code",
   "execution_count": 52,
   "id": "bc5be188",
   "metadata": {},
   "outputs": [],
   "source": [
    "# testing = ReviewDataset(df['review'], df['sentiment'], tokenizer)\n",
    "# testing.__getitem__(1)"
   ]
  },
  {
   "cell_type": "code",
   "execution_count": 53,
   "id": "8ccb8749",
   "metadata": {},
   "outputs": [],
   "source": [
    "from sklearn.model_selection import train_test_split"
   ]
  },
  {
   "cell_type": "code",
   "execution_count": 54,
   "id": "818ea741",
   "metadata": {},
   "outputs": [],
   "source": [
    "df_train, df_test = train_test_split(\n",
    "  df,\n",
    "  test_size=0.1\n",
    ")\n",
    "# df_train"
   ]
  },
  {
   "cell_type": "code",
   "execution_count": 55,
   "id": "a87a2eb4",
   "metadata": {},
   "outputs": [],
   "source": [
    "def data_loader(df, tokenizer, batch_size):\n",
    "    ds = ReviewDataset(\n",
    "    reviews=df['review'].to_numpy(),\n",
    "    sentiments=df['sentiment'].to_numpy(),\n",
    "    tokenizer=tokenizer,\n",
    "  )\n",
    "    return DataLoader(ds, batch_size=batch_size, shuffle=True)"
   ]
  },
  {
   "cell_type": "code",
   "execution_count": 56,
   "id": "04c42a64",
   "metadata": {},
   "outputs": [],
   "source": [
    "BATCH_SIZE = 1\n",
    "train_dataloader = data_loader(df_train, tokenizer, batch_size=BATCH_SIZE)\n",
    "test_dataloader = data_loader(df_test, tokenizer, batch_size=BATCH_SIZE)"
   ]
  },
  {
   "cell_type": "code",
   "execution_count": 57,
   "id": "bdfb48da",
   "metadata": {},
   "outputs": [
    {
     "data": {
      "text/plain": [
       "dict_keys(['review_text', 'sentiment', 'input_ids', 'attention_mask'])"
      ]
     },
     "execution_count": 57,
     "metadata": {},
     "output_type": "execute_result"
    }
   ],
   "source": [
    "data = next(iter(train_dataloader))\n",
    "data.keys()\n",
    "# print(data['input_ids'].shape)\n",
    "# print(data['attention_mask'].shape)\n",
    "# print(data['sentiment'].shape)"
   ]
  },
  {
   "cell_type": "code",
   "execution_count": 58,
   "id": "da444042",
   "metadata": {},
   "outputs": [],
   "source": [
    "# model = transformers.BertForSequenceClassification.from_pretrained('bert-base-uncased')\n",
    "# loss, logits = model(\n",
    "#                     input_ids=encoding['input_ids'], \n",
    "#                     attention_mask=encoding['attention_mask'],\n",
    "#                     labels=th.tensor([1])\n",
    "#                     )[:2]\n",
    "# type(loss)"
   ]
  },
  {
   "cell_type": "markdown",
   "id": "226e1063",
   "metadata": {},
   "source": [
    "## Creating model"
   ]
  },
  {
   "cell_type": "code",
   "execution_count": 79,
   "id": "7143815b",
   "metadata": {},
   "outputs": [],
   "source": [
    "class IMDBSentimentClassifier(th.nn.Module):\n",
    "    def __init__(self):\n",
    "        super(IMDBSentimentClassifier, self).__init__()\n",
    "        self.model = transformers.BertForSequenceClassification.from_pretrained('bert-base-uncased')\n",
    "        # self.out=th.nn.Sigmoid()\n",
    "\n",
    "    def forward(self, input_ids, attention_mask, labels):\n",
    "        _, logits = self.model(\n",
    "            input_ids=input_ids,\n",
    "            attention_mask=attention_mask,\n",
    "            labels=labels\n",
    "        )[:2]\n",
    "        \n",
    "        return logits\n",
    "        # self.out(logits)"
   ]
  },
  {
   "cell_type": "code",
   "execution_count": 80,
   "id": "6127be6a",
   "metadata": {},
   "outputs": [
    {
     "name": "stderr",
     "output_type": "stream",
     "text": [
      "Some weights of the model checkpoint at bert-base-uncased were not used when initializing BertForSequenceClassification: ['cls.seq_relationship.weight', 'cls.predictions.transform.LayerNorm.bias', 'cls.predictions.bias', 'cls.predictions.transform.LayerNorm.weight', 'cls.predictions.decoder.weight', 'cls.predictions.transform.dense.bias', 'cls.seq_relationship.bias', 'cls.predictions.transform.dense.weight']\n",
      "- This IS expected if you are initializing BertForSequenceClassification from the checkpoint of a model trained on another task or with another architecture (e.g. initializing a BertForSequenceClassification model from a BertForPreTraining model).\n",
      "- This IS NOT expected if you are initializing BertForSequenceClassification from the checkpoint of a model that you expect to be exactly identical (initializing a BertForSequenceClassification model from a BertForSequenceClassification model).\n",
      "Some weights of BertForSequenceClassification were not initialized from the model checkpoint at bert-base-uncased and are newly initialized: ['classifier.bias', 'classifier.weight']\n",
      "You should probably TRAIN this model on a down-stream task to be able to use it for predictions and inference.\n"
     ]
    }
   ],
   "source": [
    "model = transformers.BertForSequenceClassification.from_pretrained('bert-base-uncased')\n",
    "# model=IMDBSentimentClassifier()\n",
    "encoding.to(device)\n",
    "model = model.to(device)"
   ]
  },
  {
   "cell_type": "markdown",
   "id": "333a1bd1",
   "metadata": {},
   "source": [
    "## Training"
   ]
  },
  {
   "cell_type": "code",
   "execution_count": 81,
   "id": "c103ae56",
   "metadata": {},
   "outputs": [],
   "source": [
    "EPOCHS = 1\n",
    "optimizer = th.optim.SGD(model.parameters(), lr=00.1, momentum=0.9)\n",
    "scheduler = th.optim.lr_scheduler.ReduceLROnPlateau(optimizer, 'min')\n",
    "# optimizer = th.optim.AdamW(model.parameters(), lr=1e-5)\n",
    "# loss_fn = th.nn.BCEWithLogitsLoss()"
   ]
  },
  {
   "cell_type": "code",
   "execution_count": 82,
   "id": "11ee7847",
   "metadata": {},
   "outputs": [],
   "source": [
    "def train_loop(dataloader, model, optimizer):\n",
    "    model = model.train()\n",
    "    size = len(dataloader.dataset)\n",
    "    for batch, d in enumerate(dataloader):\n",
    "        input_ids = d[\"input_ids\"].to(device)\n",
    "        attention_mask = d[\"attention_mask\"].to(device)\n",
    "        sentiments = d[\"sentiment\"].to(device)\n",
    "\n",
    "        # Compute prediction and loss\n",
    "        loss, _= model(\n",
    "            input_ids=input_ids,\n",
    "            attention_mask=attention_mask,\n",
    "            labels=sentiments\n",
    "            )[:2]\n",
    "            \n",
    "        # Backprop\n",
    "        optimizer.zero_grad()\n",
    "        loss.backward()\n",
    "        th.nn.utils.clip_grad_norm_(model.parameters(), max_norm=1.0)\n",
    "        optimizer.step()\n",
    "        scheduler.step(loss)\n",
    "\n",
    "        if batch % 100 == 0:\n",
    "            current = batch * size\n",
    "            print(f\"loss: {loss:>7f}\")\n",
    "            \n",
    "\n",
    "def test_loop(dataloader, model):\n",
    "    model = model.eval()\n",
    "    size = len(dataloader.dataset)\n",
    "    correct = 0\n",
    "    \n",
    "    with th.no_grad():\n",
    "        for d in dataloader:\n",
    "            input_ids = d[\"input_ids\"].to(device)\n",
    "            attention_mask = d[\"attention_mask\"].to(device)\n",
    "            sentiments = d[\"sentiment\"].to(device)\n",
    "            _, logits = model(\n",
    "                input_ids=input_ids,\n",
    "                attention_mask=attention_mask,\n",
    "                labels=sentiments\n",
    "                )[:2]\n",
    "            \n",
    "            correct += (logits.argmax(1) == sentiments).type(th.float).sum().item()\n",
    "    correct /= size\n",
    "    print(f\"Test Error: \\n Accuracy: {(100*correct):>0.1f}%\")"
   ]
  },
  {
   "cell_type": "code",
   "execution_count": 83,
   "id": "5e7c0e87",
   "metadata": {},
   "outputs": [
    {
     "name": "stdout",
     "output_type": "stream",
     "text": [
      "Epoch 1\n",
      "-------------------------------\n",
      "loss: 0.490114\n",
      "loss: 3.987406\n",
      "loss: 0.014771\n",
      "loss: 4.411205\n",
      "loss: 4.538987\n"
     ]
    }
   ],
   "source": [
    "for t in range(EPOCHS):\n",
    "    print(f\"Epoch {t+1}\\n-------------------------------\")\n",
    "    train_loop(train_dataloader, model, optimizer)\n",
    "    test_loop(test_dataloader, model)\n",
    "print(\"Done!\")"
   ]
  },
  {
   "attachments": {},
   "cell_type": "markdown",
   "id": "3d2024e8",
   "metadata": {},
   "source": [
    "## Predict"
   ]
  },
  {
   "cell_type": "code",
   "execution_count": null,
   "id": "bd926a24",
   "metadata": {},
   "outputs": [],
   "source": [
    "test = \"Great movie, love the music and the story\""
   ]
  },
  {
   "cell_type": "code",
   "execution_count": null,
   "id": "3c301fcd",
   "metadata": {},
   "outputs": [],
   "source": [
    "def predict_sentiment(text):\n",
    "    model.eval()\n",
    "    classes = ['Positive', 'Negative']\n",
    "    with th.no_grad():\n",
    "        encoding = tokenizer(\n",
    "            text,\n",
    "            max_length = 512,\n",
    "            padding='max_length',\n",
    "            return_token_type_ids=False,\n",
    "            truncation=True,\n",
    "            return_tensors='pt'\n",
    "        )\n",
    "        encoding.to(device)\n",
    "        output = model(**encoding).logits\n",
    "        pred_proba = th.sigmoid(output)\n",
    "        prediction = th.argmax(pred_proba, dim=1)\n",
    "        print(f'Review: {text}')\n",
    "        print(f'Sentiment: {classes[prediction]}')"
   ]
  },
  {
   "cell_type": "code",
   "execution_count": null,
   "id": "45056df9",
   "metadata": {},
   "outputs": [
    {
     "name": "stdout",
     "output_type": "stream",
     "text": [
      "Review: Great movie, love the music and the story\n",
      "Sentiment: Negative\n",
      "None\n"
     ]
    }
   ],
   "source": [
    "print(predict_sentiment(test_pos))\n"
   ]
  },
  {
   "cell_type": "code",
   "execution_count": null,
   "id": "4d43c792",
   "metadata": {},
   "outputs": [],
   "source": []
  },
  {
   "cell_type": "code",
   "execution_count": null,
   "id": "b8e5fa5a",
   "metadata": {},
   "outputs": [],
   "source": []
  },
  {
   "cell_type": "code",
   "execution_count": null,
   "id": "f1fe8077",
   "metadata": {},
   "outputs": [],
   "source": []
  },
  {
   "cell_type": "code",
   "execution_count": null,
   "id": "bab3a8b9",
   "metadata": {},
   "outputs": [],
   "source": []
  },
  {
   "cell_type": "code",
   "execution_count": null,
   "id": "738e962b",
   "metadata": {},
   "outputs": [],
   "source": []
  },
  {
   "cell_type": "code",
   "execution_count": null,
   "id": "b576865b",
   "metadata": {},
   "outputs": [],
   "source": []
  },
  {
   "cell_type": "markdown",
   "id": "3345debb",
   "metadata": {},
   "source": [
    "# 4. "
   ]
  },
  {
   "cell_type": "code",
   "execution_count": null,
   "id": "d84e5c17",
   "metadata": {},
   "outputs": [],
   "source": []
  },
  {
   "cell_type": "markdown",
   "id": "ff993f5a",
   "metadata": {},
   "source": [
    "# . Loading Model"
   ]
  },
  {
   "cell_type": "code",
   "execution_count": null,
   "id": "f9e27bb2",
   "metadata": {},
   "outputs": [],
   "source": []
  },
  {
   "cell_type": "markdown",
   "id": "87a76a7f",
   "metadata": {},
   "source": [
    "# . Training Model"
   ]
  },
  {
   "cell_type": "code",
   "execution_count": null,
   "id": "78342f72",
   "metadata": {},
   "outputs": [],
   "source": []
  }
 ],
 "metadata": {
  "kernelspec": {
   "display_name": "Python 3",
   "language": "python",
   "name": "python3"
  },
  "language_info": {
   "codemirror_mode": {
    "name": "ipython",
    "version": 3
   },
   "file_extension": ".py",
   "mimetype": "text/x-python",
   "name": "python",
   "nbconvert_exporter": "python",
   "pygments_lexer": "ipython3",
   "version": "3.7.9"
  },
  "vscode": {
   "interpreter": {
    "hash": "8f150651d9fc93f87c0d25b81b1bf12a08e4331fb53bd4e989a16605551565fa"
   }
  }
 },
 "nbformat": 4,
 "nbformat_minor": 5
}
