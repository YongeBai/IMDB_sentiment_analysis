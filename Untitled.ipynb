{
 "cells": [
  {
   "cell_type": "markdown",
   "id": "f0f45681",
   "metadata": {},
   "source": [
    "# Importing Dataset\n",
    "https://www.kaggle.com/code/rakgyunim/nlp-tutorial\n",
    "\n",
    "https://www.kaggle.com/code/lakshmi25npathi/sentiment-analysis-of-imdb-movie-reviews\n",
    "\n"
   ]
  },
  {
   "cell_type": "code",
   "execution_count": 132,
   "id": "86d9ea1d",
   "metadata": {},
   "outputs": [],
   "source": [
    "import pandas as pd\n",
    "import matplotlib.pyplot as plt\n",
    "import seaborn as sns\n",
    "import numpy as np\n",
    "%matplotlib inline"
   ]
  },
  {
   "cell_type": "code",
   "execution_count": 133,
   "id": "9aa9bd0b",
   "metadata": {},
   "outputs": [],
   "source": [
    "#importing the training data\n",
    "imdb_data=pd.read_csv('IMDB Dataset.csv')"
   ]
  },
  {
   "cell_type": "markdown",
   "id": "0d60b91b",
   "metadata": {},
   "source": [
    "# 0. Cleaning and Exploring Data"
   ]
  },
  {
   "cell_type": "code",
   "execution_count": 134,
   "id": "7769d4cd",
   "metadata": {},
   "outputs": [
    {
     "name": "stdout",
     "output_type": "stream",
     "text": [
      "(50000, 2)\n"
     ]
    },
    {
     "data": {
      "text/html": [
       "<div>\n",
       "<style scoped>\n",
       "    .dataframe tbody tr th:only-of-type {\n",
       "        vertical-align: middle;\n",
       "    }\n",
       "\n",
       "    .dataframe tbody tr th {\n",
       "        vertical-align: top;\n",
       "    }\n",
       "\n",
       "    .dataframe thead th {\n",
       "        text-align: right;\n",
       "    }\n",
       "</style>\n",
       "<table border=\"1\" class=\"dataframe\">\n",
       "  <thead>\n",
       "    <tr style=\"text-align: right;\">\n",
       "      <th></th>\n",
       "      <th>review</th>\n",
       "      <th>sentiment</th>\n",
       "    </tr>\n",
       "  </thead>\n",
       "  <tbody>\n",
       "    <tr>\n",
       "      <th>0</th>\n",
       "      <td>One of the other reviewers has mentioned that ...</td>\n",
       "      <td>positive</td>\n",
       "    </tr>\n",
       "    <tr>\n",
       "      <th>1</th>\n",
       "      <td>A wonderful little production. &lt;br /&gt;&lt;br /&gt;The...</td>\n",
       "      <td>positive</td>\n",
       "    </tr>\n",
       "    <tr>\n",
       "      <th>2</th>\n",
       "      <td>I thought this was a wonderful way to spend ti...</td>\n",
       "      <td>positive</td>\n",
       "    </tr>\n",
       "    <tr>\n",
       "      <th>3</th>\n",
       "      <td>Basically there's a family where a little boy ...</td>\n",
       "      <td>negative</td>\n",
       "    </tr>\n",
       "    <tr>\n",
       "      <th>4</th>\n",
       "      <td>Petter Mattei's \"Love in the Time of Money\" is...</td>\n",
       "      <td>positive</td>\n",
       "    </tr>\n",
       "    <tr>\n",
       "      <th>5</th>\n",
       "      <td>Probably my all-time favorite movie, a story o...</td>\n",
       "      <td>positive</td>\n",
       "    </tr>\n",
       "    <tr>\n",
       "      <th>6</th>\n",
       "      <td>I sure would like to see a resurrection of a u...</td>\n",
       "      <td>positive</td>\n",
       "    </tr>\n",
       "    <tr>\n",
       "      <th>7</th>\n",
       "      <td>This show was an amazing, fresh &amp; innovative i...</td>\n",
       "      <td>negative</td>\n",
       "    </tr>\n",
       "    <tr>\n",
       "      <th>8</th>\n",
       "      <td>Encouraged by the positive comments about this...</td>\n",
       "      <td>negative</td>\n",
       "    </tr>\n",
       "    <tr>\n",
       "      <th>9</th>\n",
       "      <td>If you like original gut wrenching laughter yo...</td>\n",
       "      <td>positive</td>\n",
       "    </tr>\n",
       "  </tbody>\n",
       "</table>\n",
       "</div>"
      ],
      "text/plain": [
       "                                              review sentiment\n",
       "0  One of the other reviewers has mentioned that ...  positive\n",
       "1  A wonderful little production. <br /><br />The...  positive\n",
       "2  I thought this was a wonderful way to spend ti...  positive\n",
       "3  Basically there's a family where a little boy ...  negative\n",
       "4  Petter Mattei's \"Love in the Time of Money\" is...  positive\n",
       "5  Probably my all-time favorite movie, a story o...  positive\n",
       "6  I sure would like to see a resurrection of a u...  positive\n",
       "7  This show was an amazing, fresh & innovative i...  negative\n",
       "8  Encouraged by the positive comments about this...  negative\n",
       "9  If you like original gut wrenching laughter yo...  positive"
      ]
     },
     "execution_count": 134,
     "metadata": {},
     "output_type": "execute_result"
    }
   ],
   "source": [
    "print(imdb_data.shape)\n",
    "imdb_data.head(10)"
   ]
  },
  {
   "cell_type": "code",
   "execution_count": 135,
   "id": "0d7abae0",
   "metadata": {},
   "outputs": [
    {
     "data": {
      "text/plain": [
       "418"
      ]
     },
     "execution_count": 135,
     "metadata": {},
     "output_type": "execute_result"
    }
   ],
   "source": [
    "# checking for duplicates\n",
    "imdb_data.duplicated().sum()"
   ]
  },
  {
   "cell_type": "code",
   "execution_count": 136,
   "id": "79ee4e09",
   "metadata": {},
   "outputs": [
    {
     "data": {
      "text/plain": [
       "review       0\n",
       "sentiment    0\n",
       "dtype: int64"
      ]
     },
     "execution_count": 136,
     "metadata": {},
     "output_type": "execute_result"
    }
   ],
   "source": [
    "# checking for null\n",
    "imdb_data.isnull().sum()"
   ]
  },
  {
   "cell_type": "code",
   "execution_count": 137,
   "id": "408da985",
   "metadata": {},
   "outputs": [],
   "source": [
    "# dropping duplicates and changing dataframe to df to keep original data untouched\n",
    "df = imdb_data.drop_duplicates()"
   ]
  },
  {
   "cell_type": "code",
   "execution_count": 138,
   "id": "3efc28fa",
   "metadata": {},
   "outputs": [
    {
     "data": {
      "text/plain": [
       "positive    24884\n",
       "negative    24698\n",
       "Name: sentiment, dtype: int64"
      ]
     },
     "execution_count": 138,
     "metadata": {},
     "output_type": "execute_result"
    }
   ],
   "source": [
    "#checking for dataset balance\n",
    "df['sentiment'].value_counts()\n",
    "\n",
    "# we can see the dataset is rather balanced"
   ]
  },
  {
   "cell_type": "markdown",
   "id": "8e5cc281",
   "metadata": {},
   "source": [
    "### Removing stopwords and puncuation"
   ]
  },
  {
   "cell_type": "code",
   "execution_count": 139,
   "id": "e483de0c",
   "metadata": {},
   "outputs": [],
   "source": [
    "import transformers\n",
    "import nltk\n",
    "from nltk.corpus import stopwords\n",
    "import re"
   ]
  },
  {
   "cell_type": "code",
   "execution_count": 140,
   "id": "f9ad574a",
   "metadata": {},
   "outputs": [],
   "source": [
    "# df['review'][0]\n",
    "\n",
    "#things to remove: stopwords, these <br /><br />, and punctuation"
   ]
  },
  {
   "cell_type": "code",
   "execution_count": 141,
   "id": "8d933d8e",
   "metadata": {},
   "outputs": [],
   "source": [
    "def clean_text(sentence: str):\n",
    "    sentence = sentence.lower()\n",
    "    sentence = re.sub(r\"<br />\", \"\", sentence)\n",
    "    sentence = re.sub(r\"[^a-z0-9 ]\", \"\", sentence)\n",
    "    sentence = re.sub(r\"\\s+\", \" \", sentence)\n",
    "\n",
    "    tokenized = nltk.tokenize.word_tokenize(sentence)\n",
    "\n",
    "    # remove stop words\n",
    "    stop_words = nltk.corpus.stopwords.words('english')\n",
    "    tokenized = [word for word in tokenized if word not in stop_words]\n",
    "\n",
    "    return sentence"
   ]
  },
  {
   "cell_type": "code",
   "execution_count": 142,
   "id": "0db984d2",
   "metadata": {},
   "outputs": [
    {
     "name": "stderr",
     "output_type": "stream",
     "text": [
      "C:\\Users\\yonge\\AppData\\Local\\Temp\\ipykernel_4620\\26712889.py:1: SettingWithCopyWarning: \n",
      "A value is trying to be set on a copy of a slice from a DataFrame.\n",
      "Try using .loc[row_indexer,col_indexer] = value instead\n",
      "\n",
      "See the caveats in the documentation: https://pandas.pydata.org/pandas-docs/stable/user_guide/indexing.html#returning-a-view-versus-a-copy\n",
      "  df['review'] = df['review'].apply(clean_text)\n"
     ]
    }
   ],
   "source": [
    "df['review'] = df['review'].apply(clean_text)\n",
    "# df['review'][0]"
   ]
  },
  {
   "cell_type": "code",
   "execution_count": 143,
   "id": "d9031d90",
   "metadata": {},
   "outputs": [
    {
     "name": "stderr",
     "output_type": "stream",
     "text": [
      "C:\\Users\\yonge\\AppData\\Local\\Temp\\ipykernel_4620\\2553008155.py:5: SettingWithCopyWarning: \n",
      "A value is trying to be set on a copy of a slice from a DataFrame.\n",
      "Try using .loc[row_indexer,col_indexer] = value instead\n",
      "\n",
      "See the caveats in the documentation: https://pandas.pydata.org/pandas-docs/stable/user_guide/indexing.html#returning-a-view-versus-a-copy\n",
      "  df['review'] = df['review'].apply(tokenizer.tokenize)\n"
     ]
    }
   ],
   "source": [
    "#creating BertTokenizer Object\n",
    "tokenzier = transformers.BertTokenizer.from_pretrained('bert-base-uncased')\n",
    "\n",
    "# Tokenizing reviews\n",
    "df['review'] = df['review'].apply(tokenizer.tokenize)"
   ]
  },
  {
   "cell_type": "code",
   "execution_count": 144,
   "id": "d82e9d2b",
   "metadata": {},
   "outputs": [],
   "source": [
    "# df['review'][0]"
   ]
  },
  {
   "cell_type": "code",
   "execution_count": 145,
   "id": "23f8537d",
   "metadata": {},
   "outputs": [
    {
     "data": {
      "image/png": "[encoded data removed]",
      "text/plain": [
       "<Figure size 640x480 with 1 Axes>"
      ]
     },
     "metadata": {},
     "output_type": "display_data"
    }
   ],
   "source": [
    "#visualizing positive and negative review ratio\n",
    "\n",
    "df_positive = df[df['sentiment'] == 'positive']\n",
    "df_negative = df[df['sentiment'] == 'negative']\n",
    "\n",
    "def plot(positive: int, negative: int):\n",
    "    # Plot the positive review counts\n",
    "    plt.bar(0, positive, label='Positive scores', color='Green')\n",
    "    plt.legend()\n",
    "\n",
    "    # Plot the negative review counts\n",
    "    plt.bar(1,negative, label='Negative scores', color='Red')\n",
    "    plt.legend()\n",
    "\n",
    "    # Set the x-axis label\n",
    "    plt.xlabel('Type of Review')\n",
    "\n",
    "    # Set the y-axis label\n",
    "    plt.ylabel('Number of reviews')\n",
    "\n",
    "    # Hide the x-axis tick labels\n",
    "    plt.xticks([])\n",
    "\n",
    "    # Show the plot\n",
    "    plt.show()\n",
    "\n",
    "plot(len(df_positive), len(df_negative))"
   ]
  },
  {
   "cell_type": "code",
   "execution_count": 146,
   "id": "456ec50c",
   "metadata": {},
   "outputs": [
    {
     "data": {
      "image/png": "[encoded data removed]",
      "text/plain": [
       "<Figure size 1000x500 with 2 Axes>"
      ]
     },
     "metadata": {},
     "output_type": "display_data"
    }
   ],
   "source": [
    "# Get the length of each review in the positive and negative datasets\n",
    "positive_review_lengths = [len(review) for review in df_positive['review']]\n",
    "negative_review_lengths = [len(review) for review in df_negative['review']]\n",
    "\n",
    "def plot(len_positive: int, len_negative: int):\n",
    "    # Create a figure with two subplots\n",
    "    fig, (ax1, ax2) = plt.subplots(1, 2, figsize=(10, 5))\n",
    "\n",
    "    # Plot the histogram for the positive review lengths\n",
    "    sns.histplot(len_positive,\n",
    "                 bins=150,\n",
    "                 color='green',\n",
    "                 label='Positive Reviews',\n",
    "                 ax=ax1)\n",
    "\n",
    "    # Add a title, x-label, and y-label for the first subplot\n",
    "    ax1.set_title('Positive Review Lengths')\n",
    "    ax1.set_xlabel('Review Length')\n",
    "    ax1.set_ylabel('Count')\n",
    "\n",
    "    # Set the x-axis and y-axis limits for the first subplot\n",
    "    ax1.set_xlim(0, 1500)\n",
    "    ax1.set_ylim(0, 2800)\n",
    "\n",
    "    # Add a legend to the first subplot\n",
    "    ax1.legend(loc='upper right')\n",
    "\n",
    "    # Plot the histogram for the negative review lengths\n",
    "    sns.histplot(len_negative,\n",
    "                 bins=150,\n",
    "                 color='red',\n",
    "                 label='Negative Reviews',\n",
    "                 ax=ax2)\n",
    "\n",
    "    # Add a title, x-label, and y-label for the second subplot\n",
    "    ax2.set_title('Negative Review Lengths')\n",
    "    ax2.set_xlabel('Review Length')\n",
    "    ax2.set_ylabel('Count')\n",
    "\n",
    "    # Set the x-axis and y-axis limits for the second subplot\n",
    "    ax2.set_xlim(0, 1500)\n",
    "    ax2.set_ylim(0, 2800)\n",
    "\n",
    "    # Add a legend to the second subplot\n",
    "    ax2.legend(loc='upper right')\n",
    "\n",
    "    # Show the plots\n",
    "    plt.show()\n",
    "\n",
    "plot(positive_review_lengths, negative_review_lengths)\n",
    "\n"
   ]
  },
  {
   "cell_type": "code",
   "execution_count": 147,
   "id": "2d9f0e2f",
   "metadata": {},
   "outputs": [
    {
     "data": {
      "image/png": "[encoded data removed]",
      "text/plain": [
       "<Figure size 1000x500 with 1 Axes>"
      ]
     },
     "metadata": {},
     "output_type": "display_data"
    }
   ],
   "source": [
    "positive_mean = np.mean(positive_review_lengths)\n",
    "negative_mean = np.mean(negative_review_lengths)\n",
    "\n",
    "def plot(positive, negative):\n",
    "    # Create a figure\n",
    "    fig = plt.figure(figsize=(10, 5))\n",
    "\n",
    "    # Create a bar plot with the positive and negative review length means\n",
    "    plt.barh(['Positive Reviews', 'Negative Reviews'],\n",
    "            [positive, negative],\n",
    "            color=['green', 'red'])\n",
    "    # Set the x-axis limits to the range 250-260 to better show difference\n",
    "    ax = plt.gca()\n",
    "    ax.set_xlim(250, 260)\n",
    "    # x-label to the plot\n",
    "    plt.xlabel('Mean Length')\n",
    "    \n",
    "    # Show the plot\n",
    "    plt.show()\n",
    "\n",
    "plot(positive_mean, negative_mean)\n",
    "# positive reviews are slightly longer"
   ]
  },
  {
   "cell_type": "code",
   "execution_count": 154,
   "id": "a4f08e0a",
   "metadata": {
    "collapsed": true
   },
   "outputs": [
    {
     "data": {
      "text/plain": [
       "['one',\n",
       " 'of',\n",
       " 'the',\n",
       " 'other',\n",
       " 'reviewers',\n",
       " 'has',\n",
       " 'mentioned',\n",
       " 'that',\n",
       " 'after',\n",
       " 'watching',\n",
       " 'just',\n",
       " '1',\n",
       " 'oz',\n",
       " 'episode',\n",
       " 'you',\n",
       " '##ll',\n",
       " 'be',\n",
       " 'hooked',\n",
       " 'they',\n",
       " 'are',\n",
       " 'right',\n",
       " 'as',\n",
       " 'this',\n",
       " 'is',\n",
       " 'exactly',\n",
       " 'what',\n",
       " 'happened',\n",
       " 'with',\n",
       " 'met',\n",
       " '##he',\n",
       " 'first',\n",
       " 'thing',\n",
       " 'that',\n",
       " 'struck',\n",
       " 'me',\n",
       " 'about',\n",
       " 'oz',\n",
       " 'was',\n",
       " 'its',\n",
       " 'brutality',\n",
       " 'and',\n",
       " 'un',\n",
       " '##fl',\n",
       " '##in',\n",
       " '##ching',\n",
       " 'scenes',\n",
       " 'of',\n",
       " 'violence',\n",
       " 'which',\n",
       " 'set',\n",
       " 'in',\n",
       " 'right',\n",
       " 'from',\n",
       " 'the',\n",
       " 'word',\n",
       " 'go',\n",
       " 'trust',\n",
       " 'me',\n",
       " 'this',\n",
       " 'is',\n",
       " 'not',\n",
       " 'a',\n",
       " 'show',\n",
       " 'for',\n",
       " 'the',\n",
       " 'faint',\n",
       " 'hearted',\n",
       " 'or',\n",
       " 'tim',\n",
       " '##id',\n",
       " 'this',\n",
       " 'show',\n",
       " 'pulls',\n",
       " 'no',\n",
       " 'punches',\n",
       " 'with',\n",
       " 'regards',\n",
       " 'to',\n",
       " 'drugs',\n",
       " 'sex',\n",
       " 'or',\n",
       " 'violence',\n",
       " 'its',\n",
       " 'is',\n",
       " 'hardcore',\n",
       " 'in',\n",
       " 'the',\n",
       " 'classic',\n",
       " 'use',\n",
       " 'of',\n",
       " 'the',\n",
       " 'word',\n",
       " '##it',\n",
       " 'is',\n",
       " 'called',\n",
       " 'oz',\n",
       " 'as',\n",
       " 'that',\n",
       " 'is',\n",
       " 'the',\n",
       " 'nickname',\n",
       " 'given',\n",
       " 'to',\n",
       " 'the',\n",
       " 'oswald',\n",
       " 'maximum',\n",
       " 'security',\n",
       " 'state',\n",
       " 'pen',\n",
       " '##ite',\n",
       " '##nta',\n",
       " '##ry',\n",
       " 'it',\n",
       " 'focuses',\n",
       " 'mainly',\n",
       " 'on',\n",
       " 'emerald',\n",
       " 'city',\n",
       " 'an',\n",
       " 'experimental',\n",
       " 'section',\n",
       " 'of',\n",
       " 'the',\n",
       " 'prison',\n",
       " 'where',\n",
       " 'all',\n",
       " 'the',\n",
       " 'cells',\n",
       " 'have',\n",
       " 'glass',\n",
       " 'fronts',\n",
       " 'and',\n",
       " 'face',\n",
       " 'inward',\n",
       " '##s',\n",
       " 'so',\n",
       " 'privacy',\n",
       " 'is',\n",
       " 'not',\n",
       " 'high',\n",
       " 'on',\n",
       " 'the',\n",
       " 'agenda',\n",
       " 'em',\n",
       " 'city',\n",
       " 'is',\n",
       " 'home',\n",
       " 'to',\n",
       " 'many',\n",
       " '##ary',\n",
       " '##ans',\n",
       " 'muslims',\n",
       " 'gangs',\n",
       " '##tas',\n",
       " 'latino',\n",
       " '##s',\n",
       " 'christians',\n",
       " 'italians',\n",
       " 'irish',\n",
       " 'and',\n",
       " 'more',\n",
       " '##so',\n",
       " 'sc',\n",
       " '##uf',\n",
       " '##fles',\n",
       " 'death',\n",
       " 'stares',\n",
       " 'dod',\n",
       " '##gy',\n",
       " 'dealings',\n",
       " 'and',\n",
       " 'shady',\n",
       " 'agreements',\n",
       " 'are',\n",
       " 'never',\n",
       " 'far',\n",
       " 'away',\n",
       " '##i',\n",
       " 'would',\n",
       " 'say',\n",
       " 'the',\n",
       " 'main',\n",
       " 'appeal',\n",
       " 'of',\n",
       " 'the',\n",
       " 'show',\n",
       " 'is',\n",
       " 'due',\n",
       " 'to',\n",
       " 'the',\n",
       " 'fact',\n",
       " 'that',\n",
       " 'it',\n",
       " 'goes',\n",
       " 'where',\n",
       " 'other',\n",
       " 'shows',\n",
       " 'wouldn',\n",
       " '##t',\n",
       " 'dare',\n",
       " 'forget',\n",
       " 'pretty',\n",
       " 'pictures',\n",
       " 'painted',\n",
       " 'for',\n",
       " 'mainstream',\n",
       " 'audiences',\n",
       " 'forget',\n",
       " 'charm',\n",
       " 'forget',\n",
       " 'romance',\n",
       " '##oz',\n",
       " 'doesn',\n",
       " '##t',\n",
       " 'mess',\n",
       " 'around',\n",
       " 'the',\n",
       " 'first',\n",
       " 'episode',\n",
       " 'i',\n",
       " 'ever',\n",
       " 'saw',\n",
       " 'struck',\n",
       " 'me',\n",
       " 'as',\n",
       " 'so',\n",
       " 'nasty',\n",
       " 'it',\n",
       " 'was',\n",
       " 'surreal',\n",
       " 'i',\n",
       " 'couldn',\n",
       " '##t',\n",
       " 'say',\n",
       " 'i',\n",
       " 'was',\n",
       " 'ready',\n",
       " 'for',\n",
       " 'it',\n",
       " 'but',\n",
       " 'as',\n",
       " 'i',\n",
       " 'watched',\n",
       " 'more',\n",
       " 'i',\n",
       " 'developed',\n",
       " 'a',\n",
       " 'taste',\n",
       " 'for',\n",
       " 'oz',\n",
       " 'and',\n",
       " 'got',\n",
       " 'accustomed',\n",
       " 'to',\n",
       " 'the',\n",
       " 'high',\n",
       " 'levels',\n",
       " 'of',\n",
       " 'graphic',\n",
       " 'violence',\n",
       " 'not',\n",
       " 'just',\n",
       " 'violence',\n",
       " 'but',\n",
       " 'injustice',\n",
       " 'crooked',\n",
       " 'guards',\n",
       " 'who',\n",
       " '##ll',\n",
       " 'be',\n",
       " 'sold',\n",
       " 'out',\n",
       " 'for',\n",
       " 'a',\n",
       " 'nickel',\n",
       " 'inmates',\n",
       " 'who',\n",
       " '##ll',\n",
       " 'kill',\n",
       " 'on',\n",
       " 'order',\n",
       " 'and',\n",
       " 'get',\n",
       " 'away',\n",
       " 'with',\n",
       " 'it',\n",
       " 'well',\n",
       " 'manner',\n",
       " '##ed',\n",
       " 'middle',\n",
       " 'class',\n",
       " 'inmates',\n",
       " 'being',\n",
       " 'turned',\n",
       " 'into',\n",
       " 'prison',\n",
       " 'bitch',\n",
       " '##es',\n",
       " 'due',\n",
       " 'to',\n",
       " 'their',\n",
       " 'lack',\n",
       " 'of',\n",
       " 'street',\n",
       " 'skills',\n",
       " 'or',\n",
       " 'prison',\n",
       " 'experience',\n",
       " 'watching',\n",
       " 'oz',\n",
       " 'you',\n",
       " 'may',\n",
       " 'become',\n",
       " 'comfortable',\n",
       " 'with',\n",
       " 'what',\n",
       " 'is',\n",
       " 'uncomfortable',\n",
       " 'viewing',\n",
       " '##tha',\n",
       " '##ts',\n",
       " 'if',\n",
       " 'you',\n",
       " 'can',\n",
       " 'get',\n",
       " 'in',\n",
       " 'touch',\n",
       " 'with',\n",
       " 'your',\n",
       " 'darker',\n",
       " 'side']"
      ]
     },
     "execution_count": 154,
     "metadata": {},
     "output_type": "execute_result"
    }
   ],
   "source": [
    "# df_positive['review'][0]"
   ]
  },
  {
   "cell_type": "code",
   "execution_count": 198,
   "id": "82692ff9",
   "metadata": {},
   "outputs": [
    {
     "name": "stdout",
     "output_type": "stream",
     "text": [
      "['and', 'to', 'oz', 'with', 'for', 'it', 'i']\n"
     ]
    }
   ],
   "source": [
    "# pos = Counter(df_positive['review'][0]).most_common(10)\n",
    "\n",
    "# print([word for word, count in pos if word not in {'the':2, 'is':3, 'of':1}])"
   ]
  },
  {
   "cell_type": "code",
   "execution_count": 211,
   "id": "9d6e5f01",
   "metadata": {
    "scrolled": true
   },
   "outputs": [
    {
     "data": {
      "image/png": "[encoded data removed]",
      "text/plain": [
       "<Figure size 800x400 with 2 Axes>"
      ]
     },
     "metadata": {},
     "output_type": "display_data"
    }
   ],
   "source": [
    "from collections import Counter\n",
    "import squarify\n",
    "\n",
    "# Use the Counter class to count the number of occurrences of each word greater than 3 in the positive and negative datasets\n",
    "\n",
    "pos_count = Counter([word for review in df_positive['review'] for word in review if len(word)>3])\n",
    "neg_count = Counter([word for review in df_negative['review'] for word in review if len(word)>3])\n",
    "                                                  \n",
    "# Get the top 100 most frequent words in the positive and negative datasets\n",
    "positive_top_words =  pos_count.most_common(100)\n",
    "negative_top_words = neg_count.most_common(100)\n",
    "\n",
    "# Creating list of words from each dataset to remove duplicates in plot\n",
    "positive_words = [word for word, count in positive_top_words]\n",
    "negative_words = [word for word, count in negative_top_words]\n",
    "\n",
    "\n",
    "def plot(positive_count, negative_count):\n",
    "    # Create a figure with two subplots\n",
    "    fig, (ax1, ax2) = plt.subplots(1, 2, figsize=(8, 4))\n",
    "    \n",
    "    # Use the squarify function to plot the top 10 most frequent words in the positive dataset\n",
    "    squarify.plot(sizes=[count for word, count in positive_top_words if word not in negative_words],\n",
    "                  label=[word for word, count in positive_top_words if word not in negative_words],\n",
    "                  color=sns.color_palette(\"Spectral\"),\n",
    "                  ax=ax1)\n",
    "\n",
    "    # Use the squarify function to plot the top 10 most frequent words in the negative dataset\n",
    "    squarify.plot(sizes=[count for word, count in negative_top_words if word not in positive_words],\n",
    "                  label=[word for word, count in negative_top_words if word not in positive_words],\n",
    "                  color=sns.color_palette(\"Accent\"),\n",
    "                  ax=ax2)\n",
    "\n",
    "    # Add a title, x-label, and y-label to the first subplot\n",
    "    ax1.set_title('Top 10 words in positive reviews')\n",
    "    ax1.set_xlabel('Word')\n",
    "    ax1.set_ylabel('Count')\n",
    "    \n",
    "    # Hide the x and y axis tick label\n",
    "    ax1.set_xticks([])\n",
    "    ax1.set_yticks([])\n",
    "    \n",
    "    # Add a title, x-label, and y-label to the second subplot\n",
    "    ax2.set_title('Top 10 words in negative reviews')\n",
    "    ax2.set_xlabel('Word')\n",
    "    ax2.set_ylabel('Count')\n",
    "    \n",
    "    # Hide the x and y axis tick labels\n",
    "    ax2.set_xticks([])\n",
    "    ax2.set_yticks([])\n",
    "    \n",
    "    # Show the plots\n",
    "    plt.show()\n",
    "\n",
    "plot(positive_word_counts, negative_word_counts)"
   ]
  },
  {
   "cell_type": "code",
   "execution_count": 94,
   "id": "3768de6b",
   "metadata": {},
   "outputs": [
    {
     "name": "stdout",
     "output_type": "stream",
     "text": [
      "Collecting squarify\n",
      "  Downloading squarify-0.4.3-py3-none-any.whl (4.3 kB)\n",
      "Installing collected packages: squarify\n",
      "Successfully installed squarify-0.4.3\n"
     ]
    }
   ],
   "source": []
  },
  {
   "cell_type": "code",
   "execution_count": null,
   "id": "faf01c3e",
   "metadata": {},
   "outputs": [],
   "source": []
  },
  {
   "cell_type": "code",
   "execution_count": null,
   "id": "b8f6bf5d",
   "metadata": {},
   "outputs": [],
   "source": []
  },
  {
   "cell_type": "markdown",
   "id": "cf5b2fce",
   "metadata": {},
   "source": [
    "# 1. EDA"
   ]
  },
  {
   "cell_type": "code",
   "execution_count": null,
   "id": "7b1d9e7f",
   "metadata": {},
   "outputs": [],
   "source": []
  },
  {
   "cell_type": "code",
   "execution_count": null,
   "id": "31282f2a",
   "metadata": {},
   "outputs": [],
   "source": []
  },
  {
   "cell_type": "markdown",
   "id": "a826a51c",
   "metadata": {},
   "source": [
    "# 3. Creating tokenizer"
   ]
  },
  {
   "cell_type": "code",
   "execution_count": null,
   "id": "9fd3b02e",
   "metadata": {},
   "outputs": [],
   "source": []
  },
  {
   "cell_type": "markdown",
   "id": "3345debb",
   "metadata": {},
   "source": [
    "# 4. "
   ]
  },
  {
   "cell_type": "code",
   "execution_count": null,
   "id": "d84e5c17",
   "metadata": {},
   "outputs": [],
   "source": []
  },
  {
   "cell_type": "markdown",
   "id": "ff993f5a",
   "metadata": {},
   "source": [
    "# . Loading Model"
   ]
  },
  {
   "cell_type": "code",
   "execution_count": null,
   "id": "f9e27bb2",
   "metadata": {},
   "outputs": [],
   "source": []
  },
  {
   "cell_type": "markdown",
   "id": "87a76a7f",
   "metadata": {},
   "source": [
    "# . Training Model"
   ]
  },
  {
   "cell_type": "code",
   "execution_count": null,
   "id": "78342f72",
   "metadata": {},
   "outputs": [],
   "source": []
  }
 ],
 "metadata": {
  "kernelspec": {
   "display_name": "Python 3 (ipykernel)",
   "language": "python",
   "name": "python3"
  },
  "language_info": {
   "codemirror_mode": {
    "name": "ipython",
    "version": 3
   },
   "file_extension": ".py",
   "mimetype": "text/x-python",
   "name": "python",
   "nbconvert_exporter": "python",
   "pygments_lexer": "ipython3",
   "version": "3.9.13"
  },
  "vscode": {
   "interpreter": {
    "hash": "893942091a4b461b9b3967a839bffe6b3de92fb9c189b11a477dda32cfd92c77"
   }
  }
 },
 "nbformat": 4,
 "nbformat_minor": 5
}
